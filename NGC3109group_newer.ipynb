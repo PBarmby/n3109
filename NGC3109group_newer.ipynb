{
 "metadata": {
  "name": "",
  "signature": "sha256:b2334f88ed7790109461ce1b69d2c8e4fea8f86328fd7a32ee8aa90d7a7eb5af"
 },
 "nbformat": 3,
 "nbformat_minor": 0,
 "worksheets": [
  {
   "cells": [
    {
     "cell_type": "code",
     "collapsed": false,
     "input": [
      "%matplotlib inline"
     ],
     "language": "python",
     "metadata": {},
     "outputs": [],
     "prompt_number": 1
    },
    {
     "cell_type": "code",
     "collapsed": false,
     "input": [
      "import numpy as np\n",
      "import matplotlib.pylab as plt\n",
      "import math"
     ],
     "language": "python",
     "metadata": {},
     "outputs": [],
     "prompt_number": 10
    },
    {
     "cell_type": "code",
     "collapsed": false,
     "input": [
      "from astropy.coordinates import ICRS,Galactic,Distance,CartesianPoints\n",
      "from astropy import units as u"
     ],
     "language": "python",
     "metadata": {},
     "outputs": [],
     "prompt_number": 3
    },
    {
     "cell_type": "code",
     "collapsed": false,
     "input": [
      "#NB: this probably will not work with astropy.coords v0.4+\n",
      "sex_a = ICRS('10h11m01.3s -04d42m48s',distance=1.3*u.Mpc)\n",
      "sex_b = ICRS('09h59m59.9s +05d19m42s',distance=1.4*u.Mpc)\n",
      "ngc3109=ICRS('10h03m06.7s -26d07m07s',distance=1.3*u.Mpc)\n",
      "antlia=ICRS('10h03m34.3s -27d19m48s',distance=1.3*u.Mpc)\n",
      "leo_p=ICRS('10h21m44.8s +18d05m20s',distance=1.72*u.Mpc)\n",
      "leo_i=ICRS('10h08m28.1s +12d18m23s',distance=240*u.kpc)\n",
      "glx_list = [leo_p,sex_a,sex_b,ngc3109,antlia,leo_i]\n",
      "labs = ['Leo P','Sex A','Sex B','NGC 3109', 'Antlia', 'Leo I']"
     ],
     "language": "python",
     "metadata": {},
     "outputs": [],
     "prompt_number": 7
    },
    {
     "cell_type": "code",
     "collapsed": false,
     "input": [
      "# define a direction vector just from Leo P to Sex B\n",
      "direction_vector=np.array([(leo_p.x-sex_b.x).value,(leo_p.y-sex_b.y).value,(leo_p.z-sex_b.z).value])\n",
      "# empty list of coordinates\n",
      "cp=[]\n",
      "# \n",
      "d = 0.0\n",
      "# spacing between field centers (I forget why this isn't a constant)\n",
      "delta_d = np.linspace(0.06,0.09,12)\n",
      "print ICRS(sex_b)\n",
      "for i,delt in enumerate(delta_d):\n",
      "    d += delta_d[i]\n",
      "#    define a location a distance d along the direction vector\n",
      "    tmp = np.array([sex_b.x.value,sex_b.y.value,sex_b.z.value])+d*direction_vector\n",
      "# add this location to our list of positions\n",
      "    cp.append(CartesianPoints(x=tmp[0], y=tmp[1], z=tmp[2], unit=u.Mpc))\n",
      "# compute and show the distance between this location and the previous one\n",
      "    if i>0:\n",
      "        print ICRS(cp[i]),ICRS(cp[i]).separation(ICRS(cp[i-1]))\n",
      "    else:\n",
      "        print ICRS(cp[i]),ICRS(sex_b).separation(ICRS(cp[i]))\n",
      "print ICRS(leo_p)"
     ],
     "language": "python",
     "metadata": {},
     "outputs": [
      {
       "output_type": "stream",
       "stream": "stdout",
       "text": [
        "<ICRS RA=149.99958 deg, Dec=5.32833 deg, Distance=1.4 Mpc>\n",
        "<ICRS RA=150.37783 deg, Dec=6.25198 deg, Distance=1.4 Mpc> 0d59m50.5016s\n",
        "<ICRS RA=150.76527 deg, Dec=7.19440 deg, Distance=1.4 Mpc> 1d01m04.59319s\n",
        "<ICRS RA=151.16106 deg, Dec=8.15277 deg, Distance=1.5 Mpc> 1d02m07.92148s\n",
        "<ICRS RA=151.56437 deg, Dec=9.12426 deg, Distance=1.5 Mpc> 1d03m00.464925s\n",
        "<ICRS RA=151.97438 deg, Dec=10.10604 deg, Distance=1.5 Mpc> 1d03m42.2863s\n",
        "<ICRS RA=152.39029 deg, Dec=11.09532 deg, Distance=1.5 Mpc>"
       ]
      },
      {
       "output_type": "stream",
       "stream": "stdout",
       "text": [
        " 1d04m13.532s\n",
        "<ICRS RA=152.81130 deg, Dec=12.08940 deg, Distance=1.5 Mpc> 1d04m34.4299s\n",
        "<ICRS RA=153.23664 deg, Dec=13.08562 deg, Distance=1.6 Mpc> 1d04m45.2849s\n",
        "<ICRS RA=153.66557 deg, Dec=14.08144 deg, Distance=1.6 Mpc> 1d04m46.4732s\n",
        "<ICRS RA=154.09735 deg, Dec=15.07444 deg, Distance=1.6 Mpc> 1d04m38.4346s\n",
        "<ICRS RA=154.53129 deg, Dec=16.06232 deg, Distance=1.7 Mpc> 1d04m21.6648s\n",
        "<ICRS RA=154.96671 deg, Dec=17.04295 deg, Distance=1.7 Mpc> "
       ]
      },
      {
       "output_type": "stream",
       "stream": "stdout",
       "text": [
        "1d03m56.7055s\n",
        "<ICRS RA=155.43667 deg, Dec=18.08889 deg, Distance=1.7 Mpc>\n"
       ]
      }
     ],
     "prompt_number": 5
    },
    {
     "cell_type": "code",
     "collapsed": false,
     "input": [
      "# see https://github.com/astropy/astropy/issues/1860, \"Example of plotting coordinates on an all-sky map\"\n",
      "# this makes RA and dec arrays for the galaxy and megacam (\"mc\") positions\n",
      "ra_mc = np.zeros((len(cp)*2))\n",
      "dec_mc = np.zeros((len(cp)*2))\n",
      "ra_mc_1 = np.zeros((len(cp)))\n",
      "dec_mc_1 = np.zeros((len(cp)))\n",
      "ra_g = np.zeros((len(glx_list)))\n",
      "dec_g = np.zeros((len(glx_list)))\n",
      "for i in range(0,len(cp)):\n",
      "    # 12 x 2 fields\n",
      "    ra_mc[2*i] = ICRS(cp[i]).ra.degree-(0.5/math.cos(ICRS(cp[i]).dec.radian))\n",
      "    dec_mc[2*i] = ICRS(cp[i]).dec.degree\n",
      "    ra_mc[(2*i)+1] = ICRS(cp[i]).ra.degree+(0.5/math.cos(ICRS(cp[i]).dec.radian))\n",
      "    dec_mc[(2*i)+1] = ICRS(cp[i]).dec.degree\n",
      "    # 12 x 1 fields\n",
      "    ra_mc_1[i] = ICRS(cp[i]).ra.degree\n",
      "    dec_mc_1[i] =  ICRS(cp[i]).dec.degree\n",
      "for i,g in enumerate(glx_list):\n",
      "    ra_g[i] = ICRS(g).ra.degree\n",
      "    dec_g[i] = ICRS(g).dec.degree"
     ],
     "language": "python",
     "metadata": {},
     "outputs": [],
     "prompt_number": 11
    },
    {
     "cell_type": "code",
     "collapsed": false,
     "input": [
      "# print position locations in HMS/DMS format\n",
      "from astropy.coordinates import Angle\n",
      "for i,(r,d) in enumerate(zip(ra_mc_1, dec_mc_1)):\n",
      "    print i+1,Angle(r/15.0,unit='hour').to_string(precision=1, sep=':',pad=True),Angle(d,unit='degree').to_string(precision=1, sep=':',pad=True)"
     ],
     "language": "python",
     "metadata": {},
     "outputs": [
      {
       "output_type": "stream",
       "stream": "stdout",
       "text": [
        "1 10:01:30.7 06:15:07.1\n",
        "2 10:03:03.7 07:11:39.8\n",
        "3 10:04:38.7 08:09:10.0\n",
        "4 10:06:15.4 09:07:27.3\n",
        "5 10:07:53.9 10:06:21.7\n",
        "6 10:09:33.7 11:05:43.2\n",
        "7 10:11:14.7 12:05:21.8\n",
        "8 10:12:56.8 13:05:08.2\n",
        "9 10:14:39.7 14:04:53.2\n",
        "10 10:16:23.4 15:04:28.0\n",
        "11 10:18:07.5 16:03:44.4\n",
        "12 10:19:52.0 17:02:34.6\n"
       ]
      }
     ],
     "prompt_number": 54
    },
    {
     "cell_type": "code",
     "collapsed": false,
     "input": [
      "# plot these\n",
      "from matplotlib.patches import Rectangle, Circle\n",
      "labs = ['Leo P','Sex A','Sex B','NGC 3109', 'Antlia', 'Leo I']\n",
      "\n",
      "#plt.plot(ra_g,dec_g,marker='.',mfc='w', mec='w')\n",
      "for X, Y, Z in zip(ra_g, dec_g, labs):\n",
      "    plt.annotate(Z, xy=(X,Y), xytext=(5, 1), ha='left',textcoords='offset points')\n",
      "currentAxis=plt.gca()\n",
      "\n",
      "\n",
      "# draw 1-degree boxes at field locations\n",
      "#for r,d in zip(ra_mc,dec_mc):\n",
      "for r,d in zip(ra_mc[13:],dec_mc[13:]):\n",
      "#for r,d in zip(ra_mc_1,dec_mc_1):\n",
      "#    currentAxis.add_patch(Rectangle((r , d - .5), 1, 1, facecolor=\"white\"))\n",
      "#    currentAxis.add_patch(Rectangle((r - 1.0, d - .5), 1, 1, facecolor=\"white\"))\n",
      "    currentAxis.add_patch(Rectangle((r - 0.5, d - .5), 1, 1, facecolor=\"white\")) #,edgecolor='blue'))\n",
      "currentAxis.add_patch(Rectangle((ra_mc[12] - 0.5, dec_mc[12] - 1), 1, 1, facecolor=\"white\")) #,edgecolor='blue'))\n",
      "    \n",
      "    # draw 0.25-degree radius circles at galaxy locations\n",
      "for r,d in zip(ra_g,dec_g):\n",
      "    currentAxis.add_patch(Circle((r, d), 0.25,facecolor=\"black\"))\n",
      "\n",
      "# mark position of Regulus\n",
      "#currentAxis.add_patch(Circle((152.093,11.9672), 0.1,facecolor=\"red\"))\n",
      "#plt.annotate(\"Regulus\",(152.093,11.9672),xytext=(5, 1), ha='left',textcoords='offset points')\n",
      "\n",
      "currentAxis.set_xlabel('RA [deg]')\n",
      "currentAxis.set_ylabel('Dec [deg]')\n",
      "#currentAxis.set_xlim(170,130) # covers full filament\n",
      "#currentAxis.set_ylim(-30,20)\n",
      "currentAxis.set_xlim(165, 140) # just northern part\n",
      "currentAxis.set_ylim(-5,20)\n",
      "currentAxis.set_aspect('equal')"
     ],
     "language": "python",
     "metadata": {},
     "outputs": [
      {
       "metadata": {},
       "output_type": "display_data",
       "png": "[encoded data removed]",
       "text": [
        "<matplotlib.figure.Figure at 0x1068e0110>"
       ]
      }
     ],
     "prompt_number": 22
    },
    {
     "cell_type": "code",
     "collapsed": false,
     "input": [
      "# print position locations in HMS/DMS format\n",
      "from astropy.coordinates import Angle\n",
      "print i+1,Angle(ra_mc[12]/15.0,unit='hour').to_string(precision=1, sep=':',pad=True),Angle(dec_mc[12]-0.5,unit='degree').to_string(precision=1, sep=':',pad=True)\n",
      "for i,(r,d) in enumerate(zip(ra_mc[13:], dec_mc[13:])):\n",
      "    print i+1,Angle(r/15.0,unit='hour').to_string(precision=1, sep=':',pad=True),Angle(d,unit='degree').to_string(precision=1, sep=':',pad=True)"
     ],
     "language": "python",
     "metadata": {},
     "outputs": [
      {
       "metadata": {},
       "output_type": "pyout",
       "prompt_number": 28,
       "text": [
        "0.40808206181339196"
       ]
      }
     ],
     "prompt_number": 28
    },
    {
     "cell_type": "code",
     "collapsed": false,
     "input": [
      "r=160.432\n",
      "d=5.324\n",
      "RA=Angle(r,unit='degree')\n",
      "Dec=Angle(d,unit='degree')"
     ],
     "language": "python",
     "metadata": {},
     "outputs": [
      {
       "output_type": "stream",
       "stream": "stdout",
       "text": [
        "\n"
       ]
      }
     ],
     "prompt_number": 38
    },
    {
     "cell_type": "code",
     "collapsed": false,
     "input": [
      "RA"
     ],
     "language": "python",
     "metadata": {},
     "outputs": [
      {
       "latex": [
        "$160^\\circ25{}^\\prime55.2{}^{\\prime\\prime}$"
       ],
       "metadata": {},
       "output_type": "pyout",
       "prompt_number": 39,
       "text": [
        "<Angle 160.432 deg>"
       ]
      }
     ],
     "prompt_number": 39
    },
    {
     "cell_type": "code",
     "collapsed": false,
     "input": [
      "Dec.to_string(precision=1,sep=':',pad=True)"
     ],
     "language": "python",
     "metadata": {},
     "outputs": [
      {
       "metadata": {},
       "output_type": "pyout",
       "prompt_number": 42,
       "text": [
        "u'05:19:26.4'"
       ]
      }
     ],
     "prompt_number": 42
    },
    {
     "cell_type": "code",
     "collapsed": false,
     "input": [],
     "language": "python",
     "metadata": {},
     "outputs": []
    },
    {
     "cell_type": "code",
     "collapsed": false,
     "input": [],
     "language": "python",
     "metadata": {},
     "outputs": []
    }
   ],
   "metadata": {}
  }
 ]
}