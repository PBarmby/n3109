{
 "metadata": {
  "name": ""
 },
 "nbformat": 3,
 "nbformat_minor": 0,
 "worksheets": [
  {
   "cells": [
    {
     "cell_type": "code",
     "collapsed": false,
     "input": [
      "%matplotlib inline"
     ],
     "language": "python",
     "metadata": {},
     "outputs": [],
     "prompt_number": 3
    },
    {
     "cell_type": "code",
     "collapsed": false,
     "input": [
      "import numpy as np"
     ],
     "language": "python",
     "metadata": {},
     "outputs": [],
     "prompt_number": 5
    },
    {
     "cell_type": "code",
     "collapsed": false,
     "input": [
      "from astropy.coordinates import ICRS,Galactic,Distance"
     ],
     "language": "python",
     "metadata": {},
     "outputs": [],
     "prompt_number": 7
    },
    {
     "cell_type": "code",
     "collapsed": false,
     "input": [
      "sex_a = ICRS('10h11m01.3s -04d42m48s',distance=1.3*u.Mpc)"
     ],
     "language": "python",
     "metadata": {},
     "outputs": [],
     "prompt_number": 20
    },
    {
     "cell_type": "code",
     "collapsed": false,
     "input": [
      "sex_b = ICRS('09h59m59.9s +05d19m42s',distance=1.4*u.Mpc)"
     ],
     "language": "python",
     "metadata": {},
     "outputs": [],
     "prompt_number": 21
    },
    {
     "cell_type": "code",
     "collapsed": false,
     "input": [
      "ngc3109=ICRS('10h03m06.7s -26d07m07s',distance=1.3*u.Mpc)"
     ],
     "language": "python",
     "metadata": {},
     "outputs": [],
     "prompt_number": 19
    },
    {
     "cell_type": "code",
     "collapsed": false,
     "input": [
      "antlia=ICRS('10h03m34.3s -27d19m48s',distance=1.3*u.Mpc)"
     ],
     "language": "python",
     "metadata": {},
     "outputs": [],
     "prompt_number": 18
    },
    {
     "cell_type": "code",
     "collapsed": false,
     "input": [
      "antlia.separation(ngc3109)"
     ],
     "language": "python",
     "metadata": {},
     "outputs": [
      {
       "latex": [
        "$1^\\circ12{}^\\prime56.6479{}^{\\prime\\prime}$"
       ],
       "metadata": {},
       "output_type": "pyout",
       "prompt_number": 14,
       "text": [
        "<Angle 1.215735530075941 deg>"
       ]
      }
     ],
     "prompt_number": 14
    },
    {
     "cell_type": "code",
     "collapsed": false,
     "input": [
      "leo_p=ICRS('10h21m44.8s +18d05m20s',distance=1.72*u.Mpc)"
     ],
     "language": "python",
     "metadata": {},
     "outputs": [],
     "prompt_number": 17
    },
    {
     "cell_type": "code",
     "collapsed": false,
     "input": [
      "from astropy import units as u"
     ],
     "language": "python",
     "metadata": {},
     "outputs": [],
     "prompt_number": 16
    },
    {
     "cell_type": "code",
     "collapsed": false,
     "input": [
      "leo_p.galactic"
     ],
     "language": "python",
     "metadata": {},
     "outputs": [
      {
       "metadata": {},
       "output_type": "pyout",
       "prompt_number": 26,
       "text": [
        "<Galactic l=219.63588 deg, b=54.43441 deg, Distance=1.7 Mpc>"
       ]
      }
     ],
     "prompt_number": 26
    },
    {
     "cell_type": "code",
     "collapsed": false,
     "input": [
      "leo_p.galactic.l"
     ],
     "language": "python",
     "metadata": {},
     "outputs": [
      {
       "latex": [
        "$3.83337\\mathrm{rad}$"
       ],
       "metadata": {},
       "output_type": "pyout",
       "prompt_number": 29,
       "text": [
        "<Longitude 3.833369305078074 rad>"
       ]
      }
     ],
     "prompt_number": 29
    },
    {
     "cell_type": "code",
     "collapsed": false,
     "input": [
      "def galactocentric(coord,R0=8):\n",
      "    xx = coord.distance*np.cos(coord.galactic.l)*np.cos(coord.galactic.b)\n",
      "    yy = coord.distance*np.sin(coord.galactic.l)*np.cos(coord.galactic.b)\n",
      "    zz = coord.distance*np.sin(coord.galactic.b)\n",
      "    gc = (xx-R0*u.kpc,yy,zz)\n",
      "    return(gc)\n"
     ],
     "language": "python",
     "metadata": {},
     "outputs": [],
     "prompt_number": 62
    },
    {
     "cell_type": "code",
     "collapsed": false,
     "input": [
      "gal_leo_p = galactocentric(leo_p)\n",
      "gal_sex_a = galactocentric(sex_a)\n",
      "gal_sex_b = galactocentric(sex_b)\n",
      "gal_antlia = galactocentric(antlia)\n",
      "gal_n3109 = galactocentric(ngc3109)\n",
      "#all_gal = np.array([gal_leo_p,gal_sex_a,gal_sex_b,gal_antlia,gal_n3109])"
     ],
     "language": "python",
     "metadata": {},
     "outputs": [],
     "prompt_number": 63
    },
    {
     "cell_type": "code",
     "collapsed": false,
     "input": [
      "xa=np.zeros((4))\n",
      "ya=np.zeros((4))\n",
      "za=np.zeros((4))\n",
      "for i,glx in enumerate([gal_leo_p,gal_sex_a,gal_sex_b,gal_antlia]):\n",
      "    xa[i]=(glx[0]-gal_n3109[0]).value\n",
      "    ya[i]=(glx[1]-gal_n3109[1]).value\n",
      "    za[i]=(glx[2]-gal_n3109[2]).value\n"
     ],
     "language": "python",
     "metadata": {},
     "outputs": [],
     "prompt_number": 71
    },
    {
     "cell_type": "code",
     "collapsed": false,
     "input": [
      "(glx[0]-gal_n3109[0]).value"
     ],
     "language": "python",
     "metadata": {},
     "outputs": [
      {
       "metadata": {},
       "output_type": "pyout",
       "prompt_number": 69,
       "text": [
        "-0.6055077347290005"
       ]
      }
     ],
     "prompt_number": 69
    },
    {
     "cell_type": "code",
     "collapsed": false,
     "input": [
      "plt.plot(xa,ya)"
     ],
     "language": "python",
     "metadata": {},
     "outputs": [
      {
       "metadata": {},
       "output_type": "pyout",
       "prompt_number": 74,
       "text": [
        "[<matplotlib.lines.Line2D at 0x106798110>]"
       ]
      },
      {
       "metadata": {},
       "output_type": "display_data",
       "png": "[encoded data removed]",
       "text": [
        "<matplotlib.figure.Figure at 0x1067d1650>"
       ]
      }
     ],
     "prompt_number": 74
    },
    {
     "cell_type": "code",
     "collapsed": false,
     "input": [
      "import matplotlib.pylab as plt"
     ],
     "language": "python",
     "metadata": {},
     "outputs": [],
     "prompt_number": 73
    },
    {
     "cell_type": "code",
     "collapsed": false,
     "input": [
      "plt.plot(xa,za)"
     ],
     "language": "python",
     "metadata": {},
     "outputs": [
      {
       "metadata": {},
       "output_type": "pyout",
       "prompt_number": 75,
       "text": [
        "[<matplotlib.lines.Line2D at 0x106774250>]"
       ]
      },
      {
       "metadata": {},
       "output_type": "display_data",
       "png": "[encoded data removed]",
       "text": [
        "<matplotlib.figure.Figure at 0x106468110>"
       ]
      }
     ],
     "prompt_number": 75
    },
    {
     "cell_type": "code",
     "collapsed": false,
     "input": [
      "xb=np.zeros((4))\n",
      "yb=np.zeros((4))\n",
      "zb=np.zeros((4))\n",
      "for i,glx in enumerate([leo_p,sex_a,sex_b,antlia]):\n",
      "    xb[i]=(glx.x-ngc3109.x).value\n",
      "    yb[i]=(glx.y-ngc3109.y).value\n",
      "    zb[i]=(glx.z-ngc3109.z).value\n"
     ],
     "language": "python",
     "metadata": {},
     "outputs": [],
     "prompt_number": 76
    },
    {
     "cell_type": "code",
     "collapsed": true,
     "input": [
      "plt.plot(xb,yb)"
     ],
     "language": "python",
     "metadata": {},
     "outputs": [
      {
       "metadata": {},
       "output_type": "pyout",
       "prompt_number": 77,
       "text": [
        "[<matplotlib.lines.Line2D at 0x1067b27d0>]"
       ]
      },
      {
       "metadata": {},
       "output_type": "display_data",
       "png": "[encoded data removed]",
       "text": [
        "<matplotlib.figure.Figure at 0x10678a250>"
       ]
      }
     ],
     "prompt_number": 77
    },
    {
     "cell_type": "code",
     "collapsed": true,
     "input": [
      "plt.plot(xb,zb)"
     ],
     "language": "python",
     "metadata": {},
     "outputs": [
      {
       "metadata": {},
       "output_type": "pyout",
       "prompt_number": 79,
       "text": [
        "[<matplotlib.lines.Line2D at 0x106961190>]"
       ]
      },
      {
       "metadata": {},
       "output_type": "display_data",
       "png": "[encoded data removed]",
       "text": [
        "<matplotlib.figure.Figure at 0x106759650>"
       ]
      }
     ],
     "prompt_number": 79
    },
    {
     "cell_type": "code",
     "collapsed": false,
     "input": [
      "# see http://mathcentral.uregina.ca/QQ/database/QQ.09.01/murray2.html\n",
      "direction_vector=np.array([(leo_p.x-antlia.x).value,(leo_p.y-antlia.y).value,(leo_p.z-antlia.z).value])"
     ],
     "language": "python",
     "metadata": {},
     "outputs": [],
     "prompt_number": 105
    },
    {
     "cell_type": "code",
     "collapsed": false,
     "input": [
      "#direction_vector"
     ],
     "language": "python",
     "metadata": {},
     "outputs": [
      {
       "metadata": {},
       "output_type": "pyout",
       "prompt_number": 106,
       "text": [
        "array([-0.4779864 ,  0.11787507,  1.1308956 ])"
       ]
      }
     ],
     "prompt_number": 106
    },
    {
     "cell_type": "code",
     "collapsed": false,
     "input": [
      "sep3d"
     ],
     "language": "python",
     "metadata": {},
     "outputs": [
      {
       "latex": [
        "$1.23341 \\; \\mathrm{Mpc}$"
       ],
       "metadata": {},
       "output_type": "pyout",
       "prompt_number": 88,
       "text": [
        "<Distance 1.2334060141003131 Mpc>"
       ]
      }
     ],
     "prompt_number": 88
    },
    {
     "cell_type": "code",
     "collapsed": false,
     "input": [
      "delta_d = np.arange(0.1,1.2,0.1)"
     ],
     "language": "python",
     "metadata": {},
     "outputs": [],
     "prompt_number": 89
    },
    {
     "cell_type": "code",
     "collapsed": false,
     "input": [
      "direction_vector=np.array([(leo_p.x-sex_a.x).value,(leo_p.y-sex_a.y).value,(leo_p.z-sex_a.z).value])\n",
      "cp=[]\n",
      "d = 0.0\n",
      "delta_d = np.linspace(0.033,0.06,24)\n",
      "print ICRS(sex_a)\n",
      "for i,delt in enumerate(delta_d):\n",
      "    d += delta_d[i]\n",
      "#    print d\n",
      "    tmp = np.array([sex_a.x.value,sex_a.y.value,sex_a.z.value])+d*direction_vector\n",
      "    cp.append(CartesianPoints(x=tmp[0], y=tmp[1], z=tmp[2], unit=u.Mpc))\n",
      "    if i>0:\n",
      "        print ICRS(cp[i]),ICRS(cp[i]).separation(ICRS(cp[i-1]))\n",
      "    else:\n",
      "        print ICRS(cp[i]),ICRS(sex_a).separation(ICRS(cp[i]))\n",
      "print ICRS(leo_p)"
     ],
     "language": "python",
     "metadata": {},
     "outputs": [
      {
       "output_type": "stream",
       "stream": "stdout",
       "text": [
        "<ICRS RA=152.75542 deg, Dec=-4.71333 deg, Distance=1.3 Mpc>\n",
        "<ICRS RA=152.86608 deg, Dec=-3.75106 deg, Distance=1.3 Mpc> 0d58m06.9051s\n",
        "<ICRS RA=152.97871 deg, Dec=-2.76951 deg, Distance=1.3 Mpc> 0d59m16.6905s\n",
        "<ICRS RA=153.09316 deg, Dec=-1.77049 deg, Distance=1.3 Mpc> 1d00m19.937s\n",
        "<ICRS RA=153.20926 deg, Dec=-0.75587 deg, Distance=1.3 Mpc> 1d01m16.456s\n",
        "<ICRS RA=153.32688 deg, Dec=0.27245 deg, Distance=1.4 Mpc> 1d02m06.09616s\n",
        "<ICRS RA=153.44586 deg, Dec=1.31254 deg, Distance=1.4 Mpc> 1d02m48.7462s\n",
        "<ICRS RA=153.56607 deg, Dec=2.36245 deg, Distance=1.4 Mpc>"
       ]
      },
      {
       "output_type": "stream",
       "stream": "stdout",
       "text": [
        " 1d03m24.3375s\n",
        "<ICRS RA=153.68736 deg, Dec=3.42022 deg, Distance=1.4 Mpc> 1d03m52.8458s\n",
        "<ICRS RA=153.80960 deg, Dec=4.48388 deg, Distance=1.4 Mpc> 1d04m14.2923s\n",
        "<ICRS RA=153.93266 deg, Dec=5.55152 deg, Distance=1.4 Mpc> 1d04m28.7433s\n",
        "<ICRS RA=154.05641 deg, Dec=6.62122 deg, Distance=1.4 Mpc> 1d04m36.3099s\n",
        "<ICRS RA=154.18072 deg, Dec=7.69112 deg, Distance=1.5 Mpc> 1d04m37.1463s\n",
        "<ICRS RA=154.30548 deg, Dec=8.75941 deg, Distance=1.5 Mpc> 1d04m31.4472s\n",
        "<ICRS RA=154.43056 deg, Dec=9.82435 deg, Distance=1.5 Mpc> "
       ]
      },
      {
       "output_type": "stream",
       "stream": "stdout",
       "text": [
        "1d04m19.4451s\n",
        "<ICRS RA=154.55586 deg, Dec=10.88426 deg, Distance=1.5 Mpc> 1d04m01.40672s\n",
        "<ICRS RA=154.68128 deg, Dec=11.93756 deg, Distance=1.6 Mpc> 1d03m37.6286s\n",
        "<ICRS RA=154.80670 deg, Dec=12.98276 deg, Distance=1.6 Mpc> 1d03m08.43284s\n",
        "<ICRS RA=154.93203 deg, Dec=14.01843 deg, Distance=1.6 Mpc> 1d02m34.1626s\n",
        "<ICRS RA=155.05718 deg, Dec=15.04329 deg, Distance=1.6 Mpc> 1d01m55.1771s\n",
        "<ICRS RA=155.18206 deg, Dec=16.05613 deg, Distance=1.7 Mpc>"
       ]
      },
      {
       "output_type": "stream",
       "stream": "stdout",
       "text": [
        " 1d01m11.8469s\n",
        "<ICRS RA=155.30658 deg, Dec=17.05585 deg, Distance=1.7 Mpc> 1d00m24.5495s\n",
        "<ICRS RA=155.43066 deg, Dec=18.04146 deg, Distance=1.7 Mpc> 0d59m33.6648s\n",
        "<ICRS RA=155.55423 deg, Dec=19.01207 deg, Distance=1.7 Mpc> 0d58m39.5709s\n",
        "<ICRS RA=155.67722 deg, Dec=19.96690 deg, Distance=1.8 Mpc> 0d57m42.6407s\n",
        "<ICRS RA=155.43667 deg, Dec=18.08889 deg, Distance=1.7 Mpc>\n"
       ]
      }
     ],
     "prompt_number": 153
    },
    {
     "cell_type": "code",
     "collapsed": false,
     "input": [
      "ICRS(sex_a).separation(ICRS(cp[0]))"
     ],
     "language": "python",
     "metadata": {},
     "outputs": [
      {
       "latex": [
        "$3^\\circ18{}^\\prime46.9699{}^{\\prime\\prime}$"
       ],
       "metadata": {},
       "output_type": "pyout",
       "prompt_number": 136,
       "text": [
        "<Angle 3.313047185573194 deg>"
       ]
      }
     ],
     "prompt_number": 136
    },
    {
     "cell_type": "code",
     "collapsed": false,
     "input": [
      "delta_d = np.linspace(0.03,0.06,23)"
     ],
     "language": "python",
     "metadata": {},
     "outputs": [],
     "prompt_number": 120
    },
    {
     "cell_type": "code",
     "collapsed": false,
     "input": [
      "delta_d"
     ],
     "language": "python",
     "metadata": {},
     "outputs": [
      {
       "metadata": {},
       "output_type": "pyout",
       "prompt_number": 121,
       "text": [
        "array([ 0.03      ,  0.03136364,  0.03272727,  0.03409091,  0.03545455,\n",
        "        0.03681818,  0.03818182,  0.03954545,  0.04090909,  0.04227273,\n",
        "        0.04363636,  0.045     ,  0.04636364,  0.04772727,  0.04909091,\n",
        "        0.05045455,  0.05181818,  0.05318182,  0.05454545,  0.05590909,\n",
        "        0.05727273,  0.05863636,  0.06      ])"
       ]
      }
     ],
     "prompt_number": 121
    },
    {
     "cell_type": "code",
     "collapsed": true,
     "input": [
      "help(linspace)"
     ],
     "language": "python",
     "metadata": {},
     "outputs": [
      {
       "ename": "NameError",
       "evalue": "name 'linspace' is not defined",
       "output_type": "pyerr",
       "traceback": [
        "\u001b[0;31m---------------------------------------------------------------------------\u001b[0m\n\u001b[0;31mNameError\u001b[0m                                 Traceback (most recent call last)",
        "\u001b[0;32m<ipython-input-144-2bc55ed577d5>\u001b[0m in \u001b[0;36m<module>\u001b[0;34m()\u001b[0m\n\u001b[0;32m----> 1\u001b[0;31m \u001b[0mhelp\u001b[0m\u001b[0;34m(\u001b[0m\u001b[0mlinspace\u001b[0m\u001b[0;34m)\u001b[0m\u001b[0;34m\u001b[0m\u001b[0m\n\u001b[0m",
        "\u001b[0;31mNameError\u001b[0m: name 'linspace' is not defined"
       ]
      },
      {
       "output_type": "stream",
       "stream": "stdout",
       "text": [
        "ERROR: NameError: name 'linspace' is not defined [IPython.core.interactiveshell]\n"
       ]
      }
     ],
     "prompt_number": 144
    },
    {
     "cell_type": "code",
     "collapsed": true,
     "input": [
      "help(np.linspace)"
     ],
     "language": "python",
     "metadata": {},
     "outputs": [
      {
       "output_type": "stream",
       "stream": "stdout",
       "text": [
        "Help on function linspace in module numpy.core.function_base:\n",
        "\n",
        "linspace(start, stop, num=50, endpoint=True, retstep=False)\n",
        "    Return evenly spaced numbers over a specified interval.\n",
        "    \n",
        "    Returns `num` evenly spaced samples, calculated over the\n",
        "    interval [`start`, `stop` ].\n",
        "    \n",
        "    The endpoint of the interval can optionally be excluded.\n",
        "    \n",
        "    Parameters\n",
        "    ----------\n",
        "    start : scalar\n",
        "        The starting value of the sequence.\n",
        "    stop : scalar\n",
        "        The end value of the sequence, unless `endpoint` is set to False.\n",
        "        In that case, the sequence consists of all but the last of ``num + 1``\n",
        "        evenly spaced samples, so that `stop` is excluded.  Note that the step\n",
        "        size changes when `endpoint` is False.\n",
        "    num : int, optional\n",
        "        Number of samples to generate. Default is 50.\n",
        "    endpoint : bool, optional\n",
        "        If True, `stop` is the last sample. Otherwise, it is not included.\n",
        "        Default is True.\n",
        "    retstep : bool, optional\n",
        "        If True, return (`samples`, `step`), where `step` is the spacing\n",
        "        between samples.\n",
        "    \n",
        "    Returns\n",
        "    -------\n",
        "    samples : ndarray\n",
        "        There are `num` equally spaced samples in the closed interval\n",
        "        ``[start, stop]`` or the half-open interval ``[start, stop)``\n",
        "        (depending on whether `endpoint` is True or False).\n",
        "    step : float (only if `retstep` is True)\n",
        "        Size of spacing between samples.\n",
        "    \n",
        "    \n",
        "    See Also\n",
        "    --------\n",
        "    arange : Similar to `linspace`, but uses a step size (instead of the\n",
        "             number of samples).\n",
        "    logspace : Samples uniformly distributed in log space.\n",
        "    \n",
        "    Examples\n",
        "    --------\n",
        "    >>> np.linspace(2.0, 3.0, num=5)\n",
        "        array([ 2.  ,  2.25,  2.5 ,  2.75,  3.  ])\n",
        "    >>> np.linspace(2.0, 3.0, num=5, endpoint=False)\n",
        "        array([ 2. ,  2.2,  2.4,  2.6,  2.8])\n",
        "    >>> np.linspace(2.0, 3.0, num=5, retstep=True)\n",
        "        (array([ 2.  ,  2.25,  2.5 ,  2.75,  3.  ]), 0.25)\n",
        "    \n",
        "    Graphical illustration:\n",
        "    \n",
        "    >>> import matplotlib.pyplot as plt\n",
        "    >>> N = 8\n",
        "    >>> y = np.zeros(N)\n",
        "    >>> x1 = np.linspace(0, 10, N, endpoint=True)\n",
        "    >>> x2 = np.linspace(0, 10, N, endpoint=False)\n",
        "    >>> plt.plot(x1, y, 'o')\n",
        "    [<matplotlib.lines.Line2D object at 0x...>]\n",
        "    >>> plt.plot(x2, y + 0.5, 'o')\n",
        "    [<matplotlib.lines.Line2D object at 0x...>]\n",
        "    >>> plt.ylim([-0.5, 1])\n",
        "    (-0.5, 1)\n",
        "    >>> plt.show()\n",
        "\n"
       ]
      }
     ],
     "prompt_number": 145
    },
    {
     "cell_type": "code",
     "collapsed": false,
     "input": [
      "for i,pos in enumerate(cp):\n",
      "    print i+1,ICRS(pos).to_string(precision=1, sep=':',pad=True)"
     ],
     "language": "python",
     "metadata": {},
     "outputs": [
      {
       "output_type": "stream",
       "stream": "stdout",
       "text": [
        "1 10:11:27.9 -03:45:03.8\n",
        "2 10:11:54.9 -02:46:10.2\n",
        "3 10:12:22.4 -01:46:13.8\n",
        "4 10:12:50.2 -0:45:21.1\n",
        "5 10:13:18.5 00:16:20.8\n",
        "6 10:13:47.0 01:18:45.2\n",
        "7 10:14:15.9 02:21:44.8\n",
        "8 10:14:45.0 03:25:12.8\n",
        "9 10:15:14.3 04:29:02.0\n",
        "10 10:15:43.8 05:33:05.5\n",
        "11 10:16:13.5 06:37:16.4\n",
        "12 10:16:43.4 07:41:28.0\n",
        "13 10:17:13.3 08:45:33.9\n",
        "14 10:17:43.3 09:49:27.6\n",
        "15 10:18:13.4 10:53:03.3\n",
        "16 10:18:43.5 11:56:15.2\n",
        "17 10:19:13.6 12:58:57.9\n",
        "18 10:19:43.7 14:01:06.4\n",
        "19 10:20:13.7 15:02:35.9\n",
        "20 10:20:43.7 16:03:22.1\n",
        "21 10:21:13.6 17:03:21.1\n",
        "22 10:21:43.4 18:02:29.3\n",
        "23 10:22:13.0 19:00:43.5\n",
        "24 "
       ]
      },
      {
       "output_type": "stream",
       "stream": "stdout",
       "text": [
        "10:22:42.5 19:58:00.9\n"
       ]
      }
     ],
     "prompt_number": 159
    },
    {
     "cell_type": "code",
     "collapsed": false,
     "input": [
      "# see https://github.com/astropy/astropy/issues/1860\n",
      "ra_mc = np.zeros((21))\n",
      "dec_mc = np.zeros((21))\n",
      "ra_g = np.zeros((5))\n",
      "dec_g = np.zeros((5))\n",
      "for i in range(0,21):\n",
      "    ra_mc[i] = ICRS(cp[i]).ra.degree\n",
      "    dec_mc[i] = ICRS(cp[i]).dec.degree\n",
      "for i,g in enumerate([leo_p,sex_a,sex_b,ngc3109,antlia]):\n",
      "    ra_g[i] = ICRS(g).ra.degree\n",
      "    dec_g[i] = ICRS(g).dec.degree"
     ],
     "language": "python",
     "metadata": {},
     "outputs": [],
     "prompt_number": 172
    },
    {
     "cell_type": "code",
     "collapsed": false,
     "input": [
      "plt.plot(ra_mc,dec_mc,marker='s',mfc='w')\n",
      "plt.plot(ra_g,dec_g,marker='^',mfc='k')"
     ],
     "language": "python",
     "metadata": {},
     "outputs": [
      {
       "metadata": {},
       "output_type": "pyout",
       "prompt_number": 173,
       "text": [
        "[<matplotlib.lines.Line2D at 0x107116e90>]"
       ]
      },
      {
       "metadata": {},
       "output_type": "display_data",
       "png": "[encoded data removed]",
       "text": [
        "<matplotlib.figure.Figure at 0x107116d50>"
       ]
      }
     ],
     "prompt_number": 173
    },
    {
     "cell_type": "code",
     "collapsed": false,
     "input": [],
     "language": "python",
     "metadata": {},
     "outputs": []
    }
   ],
   "metadata": {}
  }
 ]
}