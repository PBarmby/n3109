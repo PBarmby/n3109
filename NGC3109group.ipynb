{
 "metadata": {
  "name": "",
  "signature": "sha256:fc93e3e7331e7f833975b18a62bb2e641a423b61fbfeb1af181a1d6f4d9088ba"
 },
 "nbformat": 3,
 "nbformat_minor": 0,
 "worksheets": [
  {
   "cells": [
    {
     "cell_type": "code",
     "collapsed": false,
     "input": [
      "%matplotlib inline"
     ],
     "language": "python",
     "metadata": {},
     "outputs": [],
     "prompt_number": 1
    },
    {
     "cell_type": "code",
     "collapsed": false,
     "input": [
      "import numpy as np\n",
      "import matplotlib.pylab as plt"
     ],
     "language": "python",
     "metadata": {},
     "outputs": [],
     "prompt_number": 2
    },
    {
     "cell_type": "code",
     "collapsed": false,
     "input": [
      "from astropy.coordinates import ICRS,Galactic,Distance,CartesianPoints\n",
      "from astropy import units as u"
     ],
     "language": "python",
     "metadata": {},
     "outputs": [],
     "prompt_number": 3
    },
    {
     "cell_type": "code",
     "collapsed": false,
     "input": [
      "#NB: this probably will not work with astropy.coords v0.4+\n",
      "sex_a = ICRS('10h11m01.3s -04d42m48s',distance=1.3*u.Mpc)\n",
      "sex_b = ICRS('09h59m59.9s +05d19m42s',distance=1.4*u.Mpc)\n",
      "ngc3109=ICRS('10h03m06.7s -26d07m07s',distance=1.3*u.Mpc)\n",
      "antlia=ICRS('10h03m34.3s -27d19m48s',distance=1.3*u.Mpc)\n",
      "leo_p=ICRS('10h21m44.8s +18d05m20s',distance=1.72*u.Mpc)"
     ],
     "language": "python",
     "metadata": {},
     "outputs": [
      {
       "output_type": "stream",
       "stream": "stderr",
       "text": [
        "WARNING: AstropyDeprecationWarning: Initializing frame classes like \"ICRS\" using string or other non-Quantity arguments is deprecated, and will be removed in the next version of Astropy.  Instead, you probably want to use the SkyCoord class with the \"system=icrs\" keyword, or if you really want to use the low-level frame classes, create it with an Angle or Quantity. [astropy.coordinates.baseframe]\n",
        "WARNING:astropy:AstropyDeprecationWarning: Initializing frame classes like \"ICRS\" using string or other non-Quantity arguments is deprecated, and will be removed in the next version of Astropy.  Instead, you probably want to use the SkyCoord class with the \"system=icrs\" keyword, or if you really want to use the low-level frame classes, create it with an Angle or Quantity.\n"
       ]
      }
     ],
     "prompt_number": 4
    },
    {
     "cell_type": "code",
     "collapsed": false,
     "input": [
      "# construct galactocentric Cartesian coordinates for each galaxy, in kpc\n",
      "def galactocentric(coord,R0=8):\n",
      "    xx = coord.distance*np.cos(coord.galactic.l)*np.cos(coord.galactic.b)\n",
      "    yy = coord.distance*np.sin(coord.galactic.l)*np.cos(coord.galactic.b)\n",
      "    zz = coord.distance*np.sin(coord.galactic.b)\n",
      "    gc = (xx-R0*u.kpc,yy,zz)\n",
      "    return(gc)\n"
     ],
     "language": "python",
     "metadata": {},
     "outputs": [],
     "prompt_number": 5
    },
    {
     "cell_type": "code",
     "collapsed": false,
     "input": [
      "gal_leo_p = galactocentric(leo_p)\n",
      "gal_sex_a = galactocentric(sex_a)\n",
      "gal_sex_b = galactocentric(sex_b)\n",
      "gal_antlia = galactocentric(antlia)\n",
      "gal_n3109 = galactocentric(ngc3109)\n",
      "#all_gal = np.array([gal_leo_p,gal_sex_a,gal_sex_b,gal_antlia,gal_n3109])"
     ],
     "language": "python",
     "metadata": {},
     "outputs": [],
     "prompt_number": 6
    },
    {
     "cell_type": "code",
     "collapsed": false,
     "input": [
      "# construct 3D distances from NGC3109, in kpc\n",
      "xa=np.zeros((4))\n",
      "ya=np.zeros((4))\n",
      "za=np.zeros((4))\n",
      "for i,glx in enumerate([gal_leo_p,gal_sex_a,gal_sex_b,gal_antlia]):\n",
      "    xa[i]=(glx[0]-gal_n3109[0]).value\n",
      "    ya[i]=(glx[1]-gal_n3109[1]).value\n",
      "    za[i]=(glx[2]-gal_n3109[2]).value\n"
     ],
     "language": "python",
     "metadata": {},
     "outputs": [],
     "prompt_number": 7
    },
    {
     "cell_type": "code",
     "collapsed": false,
     "input": [
      "#make some plots showing the locations of glx: first XY plane\n",
      "plt.plot(xa,ya)"
     ],
     "language": "python",
     "metadata": {},
     "outputs": [
      {
       "metadata": {},
       "output_type": "pyout",
       "prompt_number": 8,
       "text": [
        "[<matplotlib.lines.Line2D at 0x10682a910>]"
       ]
      },
      {
       "metadata": {},
       "output_type": "display_data",
       "png": "[encoded data removed]",
       "text": [
        "<matplotlib.figure.Figure at 0x101ee6d90>"
       ]
      }
     ],
     "prompt_number": 8
    },
    {
     "cell_type": "code",
     "collapsed": false,
     "input": [
      "# now the XZ plane\n",
      "plt.plot(xa,za)"
     ],
     "language": "python",
     "metadata": {},
     "outputs": [
      {
       "metadata": {},
       "output_type": "pyout",
       "prompt_number": 9,
       "text": [
        "[<matplotlib.lines.Line2D at 0x1068026d0>]"
       ]
      },
      {
       "metadata": {},
       "output_type": "display_data",
       "png": "[encoded data removed]",
       "text": [
        "<matplotlib.figure.Figure at 0x1060ae650>"
       ]
      }
     ],
     "prompt_number": 9
    },
    {
     "cell_type": "code",
     "collapsed": false,
     "input": [
      "#  xyz coordinates not referenced to galactic center\n",
      "xb=np.zeros((4))\n",
      "yb=np.zeros((4))\n",
      "zb=np.zeros((4))\n",
      "for i,glx in enumerate([leo_p,sex_a,sex_b,antlia]):\n",
      "    xb[i]=(glx.x-ngc3109.x).value\n",
      "    yb[i]=(glx.y-ngc3109.y).value\n",
      "    zb[i]=(glx.z-ngc3109.z).value\n"
     ],
     "language": "python",
     "metadata": {},
     "outputs": [
      {
       "ename": "AttributeError",
       "evalue": "'SkyCoord' object has no attribute 'x'",
       "output_type": "pyerr",
       "traceback": [
        "\u001b[0;31m---------------------------------------------------------------------------\u001b[0m\n\u001b[0;31mAttributeError\u001b[0m                            Traceback (most recent call last)",
        "\u001b[0;32m<ipython-input-8-583e2ef7eb1f>\u001b[0m in \u001b[0;36m<module>\u001b[0;34m()\u001b[0m\n\u001b[1;32m      4\u001b[0m \u001b[0mzb\u001b[0m\u001b[0;34m=\u001b[0m\u001b[0mnp\u001b[0m\u001b[0;34m.\u001b[0m\u001b[0mzeros\u001b[0m\u001b[0;34m(\u001b[0m\u001b[0;34m(\u001b[0m\u001b[0;36m4\u001b[0m\u001b[0;34m)\u001b[0m\u001b[0;34m)\u001b[0m\u001b[0;34m\u001b[0m\u001b[0m\n\u001b[1;32m      5\u001b[0m \u001b[0;32mfor\u001b[0m \u001b[0mi\u001b[0m\u001b[0;34m,\u001b[0m\u001b[0mglx\u001b[0m \u001b[0;32min\u001b[0m \u001b[0menumerate\u001b[0m\u001b[0;34m(\u001b[0m\u001b[0;34m[\u001b[0m\u001b[0mleo_p\u001b[0m\u001b[0;34m,\u001b[0m\u001b[0msex_a\u001b[0m\u001b[0;34m,\u001b[0m\u001b[0msex_b\u001b[0m\u001b[0;34m,\u001b[0m\u001b[0mantlia\u001b[0m\u001b[0;34m]\u001b[0m\u001b[0;34m)\u001b[0m\u001b[0;34m:\u001b[0m\u001b[0;34m\u001b[0m\u001b[0m\n\u001b[0;32m----> 6\u001b[0;31m     \u001b[0mxb\u001b[0m\u001b[0;34m[\u001b[0m\u001b[0mi\u001b[0m\u001b[0;34m]\u001b[0m\u001b[0;34m=\u001b[0m\u001b[0;34m(\u001b[0m\u001b[0mglx\u001b[0m\u001b[0;34m.\u001b[0m\u001b[0mx\u001b[0m\u001b[0;34m-\u001b[0m\u001b[0mngc3109\u001b[0m\u001b[0;34m.\u001b[0m\u001b[0mx\u001b[0m\u001b[0;34m)\u001b[0m\u001b[0;34m.\u001b[0m\u001b[0mvalue\u001b[0m\u001b[0;34m\u001b[0m\u001b[0m\n\u001b[0m\u001b[1;32m      7\u001b[0m     \u001b[0myb\u001b[0m\u001b[0;34m[\u001b[0m\u001b[0mi\u001b[0m\u001b[0;34m]\u001b[0m\u001b[0;34m=\u001b[0m\u001b[0;34m(\u001b[0m\u001b[0mglx\u001b[0m\u001b[0;34m.\u001b[0m\u001b[0my\u001b[0m\u001b[0;34m-\u001b[0m\u001b[0mngc3109\u001b[0m\u001b[0;34m.\u001b[0m\u001b[0my\u001b[0m\u001b[0;34m)\u001b[0m\u001b[0;34m.\u001b[0m\u001b[0mvalue\u001b[0m\u001b[0;34m\u001b[0m\u001b[0m\n\u001b[1;32m      8\u001b[0m     \u001b[0mzb\u001b[0m\u001b[0;34m[\u001b[0m\u001b[0mi\u001b[0m\u001b[0;34m]\u001b[0m\u001b[0;34m=\u001b[0m\u001b[0;34m(\u001b[0m\u001b[0mglx\u001b[0m\u001b[0;34m.\u001b[0m\u001b[0mz\u001b[0m\u001b[0;34m-\u001b[0m\u001b[0mngc3109\u001b[0m\u001b[0;34m.\u001b[0m\u001b[0mz\u001b[0m\u001b[0;34m)\u001b[0m\u001b[0;34m.\u001b[0m\u001b[0mvalue\u001b[0m\u001b[0;34m\u001b[0m\u001b[0m\n",
        "\u001b[0;32m/Users/pauline/anaconda/lib/python2.7/site-packages/astropy-0.4.dev9353-py2.7-macosx-10.5-x86_64.egg/astropy/coordinates/sky_coordinate.pyc\u001b[0m in \u001b[0;36m__getattr__\u001b[0;34m(self, attr)\u001b[0m\n\u001b[1;32m    354\u001b[0m         \u001b[0;31m# Fail\u001b[0m\u001b[0;34m\u001b[0m\u001b[0;34m\u001b[0m\u001b[0m\n\u001b[1;32m    355\u001b[0m         raise AttributeError(\"'{0}' object has no attribute '{1}'\"\n\u001b[0;32m--> 356\u001b[0;31m                              .format(self.__class__.__name__, attr))\n\u001b[0m\u001b[1;32m    357\u001b[0m \u001b[0;34m\u001b[0m\u001b[0m\n\u001b[1;32m    358\u001b[0m     \u001b[0;34m@\u001b[0m\u001b[0moverride__dir__\u001b[0m\u001b[0;34m\u001b[0m\u001b[0m\n",
        "\u001b[0;31mAttributeError\u001b[0m: 'SkyCoord' object has no attribute 'x'"
       ]
      }
     ],
     "prompt_number": 8
    },
    {
     "cell_type": "code",
     "collapsed": true,
     "input": [
      "plt.plot(xb,yb)"
     ],
     "language": "python",
     "metadata": {},
     "outputs": [
      {
       "metadata": {},
       "output_type": "pyout",
       "prompt_number": 14,
       "text": [
        "[<matplotlib.lines.Line2D at 0x106d9edd0>]"
       ]
      },
      {
       "metadata": {},
       "output_type": "display_data",
       "png": "[encoded data removed]",
       "text": [
        "<matplotlib.figure.Figure at 0x106d2ecd0>"
       ]
      }
     ],
     "prompt_number": 14
    },
    {
     "cell_type": "code",
     "collapsed": false,
     "input": [
      "# define a direction vector from Leo P to Antlia, the 2 ends of the structure\n",
      "# see http://mathcentral.uregina.ca/QQ/database/QQ.09.01/murray2.html\n",
      "direction_vector=np.array([(leo_p.x-antlia.x).value,(leo_p.y-antlia.y).value,(leo_p.z-antlia.z).value])"
     ],
     "language": "python",
     "metadata": {},
     "outputs": [],
     "prompt_number": 15
    },
    {
     "cell_type": "code",
     "collapsed": false,
     "input": [
      "#direction_vector"
     ],
     "language": "python",
     "metadata": {},
     "outputs": [
      {
       "metadata": {},
       "output_type": "pyout",
       "prompt_number": 106,
       "text": [
        "array([-0.4779864 ,  0.11787507,  1.1308956 ])"
       ]
      }
     ],
     "prompt_number": 106
    },
    {
     "cell_type": "code",
     "collapsed": false,
     "input": [
      "# define a direction vector just from Leo P to Sex A\n",
      "direction_vector=np.array([(leo_p.x-sex_a.x).value,(leo_p.y-sex_a.y).value,(leo_p.z-sex_a.z).value])\n",
      "# empty list of coordinates\n",
      "cp=[]\n",
      "# \n",
      "d = 0.0\n",
      "# spacing between field centers (I forget why this isn't a constant)\n",
      "delta_d = np.linspace(0.033,0.06,24)\n",
      "print ICRS(sex_a)\n",
      "for i,delt in enumerate(delta_d):\n",
      "    d += delta_d[i]\n",
      "#    define a location a distance d along the direction vector\n",
      "    tmp = np.array([sex_a.x.value,sex_a.y.value,sex_a.z.value])+d*direction_vector\n",
      "# add this location to our list of positions\n",
      "    cp.append(CartesianPoints(x=tmp[0], y=tmp[1], z=tmp[2], unit=u.Mpc))\n",
      "# compute and show the distance between this location and the previous one\n",
      "    if i>0:\n",
      "        print ICRS(cp[i]),ICRS(cp[i]).separation(ICRS(cp[i-1]))\n",
      "    else:\n",
      "        print ICRS(cp[i]),ICRS(sex_a).separation(ICRS(cp[i]))\n",
      "print ICRS(leo_p)"
     ],
     "language": "python",
     "metadata": {},
     "outputs": [
      {
       "ename": "AttributeError",
       "evalue": "'SkyCoord' object has no attribute 'x'",
       "output_type": "pyerr",
       "traceback": [
        "\u001b[0;31m---------------------------------------------------------------------------\u001b[0m\n\u001b[0;31mAttributeError\u001b[0m                            Traceback (most recent call last)",
        "\u001b[0;32m<ipython-input-9-7c76b6e9944a>\u001b[0m in \u001b[0;36m<module>\u001b[0;34m()\u001b[0m\n\u001b[1;32m      1\u001b[0m \u001b[0;31m# define a direction vector just from Leo P to Sex A\u001b[0m\u001b[0;34m\u001b[0m\u001b[0;34m\u001b[0m\u001b[0m\n\u001b[0;32m----> 2\u001b[0;31m \u001b[0mdirection_vector\u001b[0m\u001b[0;34m=\u001b[0m\u001b[0mnp\u001b[0m\u001b[0;34m.\u001b[0m\u001b[0marray\u001b[0m\u001b[0;34m(\u001b[0m\u001b[0;34m[\u001b[0m\u001b[0;34m(\u001b[0m\u001b[0mleo_p\u001b[0m\u001b[0;34m.\u001b[0m\u001b[0mx\u001b[0m\u001b[0;34m-\u001b[0m\u001b[0msex_a\u001b[0m\u001b[0;34m.\u001b[0m\u001b[0mx\u001b[0m\u001b[0;34m)\u001b[0m\u001b[0;34m.\u001b[0m\u001b[0mvalue\u001b[0m\u001b[0;34m,\u001b[0m\u001b[0;34m(\u001b[0m\u001b[0mleo_p\u001b[0m\u001b[0;34m.\u001b[0m\u001b[0my\u001b[0m\u001b[0;34m-\u001b[0m\u001b[0msex_a\u001b[0m\u001b[0;34m.\u001b[0m\u001b[0my\u001b[0m\u001b[0;34m)\u001b[0m\u001b[0;34m.\u001b[0m\u001b[0mvalue\u001b[0m\u001b[0;34m,\u001b[0m\u001b[0;34m(\u001b[0m\u001b[0mleo_p\u001b[0m\u001b[0;34m.\u001b[0m\u001b[0mz\u001b[0m\u001b[0;34m-\u001b[0m\u001b[0msex_a\u001b[0m\u001b[0;34m.\u001b[0m\u001b[0mz\u001b[0m\u001b[0;34m)\u001b[0m\u001b[0;34m.\u001b[0m\u001b[0mvalue\u001b[0m\u001b[0;34m]\u001b[0m\u001b[0;34m)\u001b[0m\u001b[0;34m\u001b[0m\u001b[0m\n\u001b[0m\u001b[1;32m      3\u001b[0m \u001b[0;31m# empty list of coordinates\u001b[0m\u001b[0;34m\u001b[0m\u001b[0;34m\u001b[0m\u001b[0m\n\u001b[1;32m      4\u001b[0m \u001b[0mcp\u001b[0m\u001b[0;34m=\u001b[0m\u001b[0;34m[\u001b[0m\u001b[0;34m]\u001b[0m\u001b[0;34m\u001b[0m\u001b[0m\n\u001b[1;32m      5\u001b[0m \u001b[0;31m#\u001b[0m\u001b[0;34m\u001b[0m\u001b[0;34m\u001b[0m\u001b[0m\n",
        "\u001b[0;32m/Users/pauline/anaconda/lib/python2.7/site-packages/astropy-0.4.dev9353-py2.7-macosx-10.5-x86_64.egg/astropy/coordinates/sky_coordinate.pyc\u001b[0m in \u001b[0;36m__getattr__\u001b[0;34m(self, attr)\u001b[0m\n\u001b[1;32m    354\u001b[0m         \u001b[0;31m# Fail\u001b[0m\u001b[0;34m\u001b[0m\u001b[0;34m\u001b[0m\u001b[0m\n\u001b[1;32m    355\u001b[0m         raise AttributeError(\"'{0}' object has no attribute '{1}'\"\n\u001b[0;32m--> 356\u001b[0;31m                              .format(self.__class__.__name__, attr))\n\u001b[0m\u001b[1;32m    357\u001b[0m \u001b[0;34m\u001b[0m\u001b[0m\n\u001b[1;32m    358\u001b[0m     \u001b[0;34m@\u001b[0m\u001b[0moverride__dir__\u001b[0m\u001b[0;34m\u001b[0m\u001b[0m\n",
        "\u001b[0;31mAttributeError\u001b[0m: 'SkyCoord' object has no attribute 'x'"
       ]
      }
     ],
     "prompt_number": 9
    },
    {
     "cell_type": "code",
     "collapsed": false,
     "input": [
      "# print position locations in HMS/DMS format\n",
      "for i,pos in enumerate(cp):\n",
      "    print i+1,ICRS(pos).to_string(precision=1, sep=':',pad=True)"
     ],
     "language": "python",
     "metadata": {},
     "outputs": [
      {
       "output_type": "stream",
       "stream": "stdout",
       "text": [
        "1 10:11:27.9 -03:45:03.8\n",
        "2 10:11:54.9 -02:46:10.2\n",
        "3 10:12:22.4 -01:46:13.8\n",
        "4 10:12:50.2 -0:45:21.1\n",
        "5 10:13:18.5 00:16:20.8\n",
        "6 10:13:47.0 01:18:45.2\n",
        "7 10:14:15.9 02:21:44.8\n",
        "8 10:14:45.0 03:25:12.8\n",
        "9 10:15:14.3 04:29:02.0\n",
        "10 10:15:43.8 05:33:05.5\n",
        "11 10:16:13.5 06:37:16.4\n",
        "12 10:16:43.4 07:41:28.0\n",
        "13 10:17:13.3 08:45:33.9\n",
        "14 10:17:43.3 09:49:27.6\n",
        "15 10:18:13.4 10:53:03.3\n",
        "16 10:18:43.5 11:56:15.2\n",
        "17 10:19:13.6 12:58:57.9\n",
        "18 10:19:43.7 14:01:06.4\n",
        "19 10:20:13.7 15:02:35.9\n",
        "20 10:20:43.7 16:03:22.1\n",
        "21 10:21:13.6 17:03:21.1\n",
        "22 10:21:43.4 18:02:29.3\n",
        "23 10:22:13.0 19:00:43.5\n",
        "24 "
       ]
      },
      {
       "output_type": "stream",
       "stream": "stdout",
       "text": [
        "10:22:42.5 19:58:00.9\n"
       ]
      }
     ],
     "prompt_number": 159
    },
    {
     "cell_type": "code",
     "collapsed": false,
     "input": [
      "# see https://github.com/astropy/astropy/issues/1860, \"Example of plotting coordinates on an all-sky map\"\n",
      "# this makes RA and dec arrays for the galaxy and megacam (\"mc\") positions\n",
      "ra_mc = np.zeros((21))\n",
      "dec_mc = np.zeros((21))\n",
      "ra_g = np.zeros((5))\n",
      "dec_g = np.zeros((5))\n",
      "for i in range(0,21):\n",
      "    ra_mc[i] = ICRS(cp[i]).ra.degree\n",
      "    dec_mc[i] = ICRS(cp[i]).dec.degree\n",
      "for i,g in enumerate([leo_p,sex_a,sex_b,ngc3109,antlia]):\n",
      "    ra_g[i] = ICRS(g).ra.degree\n",
      "    dec_g[i] = ICRS(g).dec.degree"
     ],
     "language": "python",
     "metadata": {},
     "outputs": [],
     "prompt_number": 19
    },
    {
     "cell_type": "code",
     "collapsed": false,
     "input": [
      "# plot these\n",
      "from matplotlib.patches import Rectangle, Circle\n",
      "labs = ['Leo P','Sex A','Sex B','NGC 3109', 'Antlia']\n",
      "\n",
      "#plt.plot(ra_g,dec_g,marker='.',mfc='w', mec='w')\n",
      "for X, Y, Z in zip(ra_g, dec_g, labs):\n",
      "    plt.annotate(Z, xy=(X,Y), xytext=(5, 1), ha='left',textcoords='offset points')\n",
      "currentAxis=plt.gca()\n",
      "\n",
      "# draw 0.25-degree radius circles at galaxy locations\n",
      "for r,d in zip(ra_g,dec_g):\n",
      "    currentAxis.add_patch(Circle((r, d), 0.25,facecolor=\"black\"))\n",
      "#\n",
      "\n",
      "# draw 1-degree boxes at field locations\n",
      "for r,d in zip(ra_mc,dec_mc):\n",
      "    currentAxis.add_patch(Rectangle((r - .5, d - .5), 1, 1, facecolor=\"white\"))\n",
      "currentAxis.set_xlabel('RA [deg]')\n",
      "currentAxis.set_ylabel('Dec [deg]')\n",
      "#currentAxis.set_xlim(170,130) # covers full filament\n",
      "#currentAxis.set_ylim(-30,20)\n",
      "currentAxis.set_xlim(165, 140) # just northern part\n",
      "currentAxis.set_ylim(-5,20)\n",
      "currentAxis.set_aspect('equal')\n"
     ],
     "language": "python",
     "metadata": {},
     "outputs": [
      {
       "metadata": {},
       "output_type": "display_data",
       "png": "[encoded data removed]",
       "text": [
        "<matplotlib.figure.Figure at 0x107616e50>"
       ]
      }
     ],
     "prompt_number": 47
    },
    {
     "cell_type": "code",
     "collapsed": false,
     "input": [
      "plt.plot"
     ],
     "language": "python",
     "metadata": {},
     "outputs": []
    }
   ],
   "metadata": {}
  }
 ]
}